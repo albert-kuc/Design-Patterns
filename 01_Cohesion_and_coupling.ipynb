{
 "cells": [
  {
   "cell_type": "markdown",
   "id": "23987b54",
   "metadata": {},
   "source": [
    "# Cohesion and coupling\n",
    "\n",
    "Based on [Cohesion and Coupling](https://youtu.be/eiDyK_ofPPM) by ArjanCodes\n",
    "\n",
    "## Cohesion\n",
    "Function with strong cohesion has a clear responsibility and do one task.<br>\n",
    "It makes the function easier to maintain, understand and reuse.\n",
    "\n",
    "## Coupling\n",
    "Measures of how dependant two parts of the code are on each other.<br>\n",
    "High coupling means, that changing code in one part of the program, requires to update code in multiple places.<br>\n",
    "\n",
    "### Example"
   ]
  },
  {
   "cell_type": "code",
   "execution_count": 1,
   "id": "ef0241b3",
   "metadata": {},
   "outputs": [],
   "source": [
    "import string\n",
    "import random\n",
    "\n",
    "class VehicleRegistry:\n",
    "    \n",
    "    def generate_vehicle_id(self, length):\n",
    "        return ''.join(random.choices(string.ascii_uppercase, k=length))\n",
    "    \n",
    "    def generate_vehicle_licence(self, id):\n",
    "        return (\n",
    "            f\"{id[:2]}\"\n",
    "            f\"-{''.join(random.choices(string.digits, k=2))}\"\n",
    "            f\"-{''.join(random.choices(string.ascii_uppercase, k=2))}\"\n",
    "        )"
   ]
  },
  {
   "cell_type": "code",
   "execution_count": 2,
   "id": "af3b05d8",
   "metadata": {},
   "outputs": [],
   "source": [
    "class Application:\n",
    "    def register_vehicle(self, brand: string):\n",
    "        # create a registry instance\n",
    "        registry = VehicleRegistry()\n",
    "        \n",
    "        # generate a vehicle id of length 12\n",
    "        vehicle_id = registry.generate_vehicle_id(12)\n",
    "        \n",
    "        # now generate a licence plate for the vehicle\n",
    "        # using the first two characters of the vehicle_id\n",
    "        licence_plate = registry.generate_vehicle_licence(vehicle_id)\n",
    "        \n",
    "        # compute the catalogue price\n",
    "        catalogue_price = 0\n",
    "        if brand == \"Tesla Model 3\":\n",
    "            catalogue_price = 60000\n",
    "        elif brand == \"Volkswagen ID3\":\n",
    "            catalogue_price = 35000\n",
    "        elif brand == \"BMW 5\":\n",
    "            catalogue_price = 45000\n",
    "        \n",
    "        # compute the tax percentage \n",
    "        # (default 5% of the catalogue price, except for electric cars where it is 2%)\n",
    "        tax_percentage = 0.05\n",
    "        if brand == \"Tesla Model 3\" or brand == \"Volkswagen ID3\":\n",
    "            tax_percentage = 0.02\n",
    "        \n",
    "        # compute payable tax\n",
    "        payable_tax = tax_percentage * catalogue_price\n",
    "            \n",
    "        # print out the vehicle registration information\n",
    "        print(\"Registration complete. Vehicle information:\")\n",
    "        print(f\"Brand: {brand}\")\n",
    "        print(f\"Id: {vehicle_id}\")\n",
    "        print(f\"Licence plate: {licence_plate}\")\n",
    "        print(f\"Payable tax: {payable_tax}\")"
   ]
  },
  {
   "cell_type": "code",
   "execution_count": 3,
   "id": "775768a5",
   "metadata": {},
   "outputs": [
    {
     "name": "stdout",
     "output_type": "stream",
     "text": [
      "Registration complete. Vehicle information:\n",
      "Brand: BMW 5\n",
      "Id: NIZWIEXIRDNU\n",
      "Licence plate: NI-19-CH\n",
      "Payable tax: 2250.0\n"
     ]
    }
   ],
   "source": [
    "app = Application()\n",
    "app.register_vehicle(\"BMW 5\")"
   ]
  },
  {
   "cell_type": "code",
   "execution_count": 4,
   "id": "32f040f9",
   "metadata": {},
   "outputs": [
    {
     "name": "stdout",
     "output_type": "stream",
     "text": [
      "Registration complete. Vehicle information:\n",
      "Brand: Tesla Model 3\n",
      "Id: XNGWYFBBDQYB\n",
      "Licence plate: XN-51-SY\n",
      "Payable tax: 1200.0\n"
     ]
    }
   ],
   "source": [
    "app.register_vehicle(\"Tesla Model 3\")"
   ]
  },
  {
   "cell_type": "markdown",
   "id": "dd480a15",
   "metadata": {},
   "source": [
    "<hr>\n",
    "\n",
    "In the above code the `.register_vehicle()` does a lot of different things: \n",
    "* generates id and licence plate, \n",
    "* computes catalogue price, \n",
    "* computes tax percentage and tax to pay, \n",
    "* prints registration information\n",
    "\n",
    "This means this method has very low cohesion as it has too many responsibilities.\n",
    "\n",
    "High coupling means that if we change anything in the `VehicleRegistry` class, it would require to change `.register_vehicle()`.\n",
    "\n",
    "As a result of low cohesion it is very difficult to add another vehicle brand\n",
    "\n",
    "### Improving code\n",
    "\n",
    "Look where the information is stored and how is it accessed. <br>\n",
    "When that is known, then the code could be grouped around that. <br>\n",
    "Results in lower coupling as the code is closer to the information it uses. <br>\n",
    "Also allows to have functions and methods that are high cohesion because they can do only one thing with that particular information. <br>"
   ]
  },
  {
   "cell_type": "code",
   "execution_count": 5,
   "id": "7724e588",
   "metadata": {},
   "outputs": [],
   "source": [
    "import string\n",
    "import random\n",
    "\n",
    "class VehicleInfo:\n",
    "        \n",
    "    def __init__(self, brand: str, electric: bool, catalogue_price: int):\n",
    "        self.brand = brand\n",
    "        self.electric = electric\n",
    "        self.catalogue_price = catalogue_price\n",
    "    \n",
    "    def compute_tax(self):\n",
    "        tax_percentage = 0.05\n",
    "        if self.electric:\n",
    "            tax_percentage = 0.02\n",
    "        return tax_percentage * self.catalogue_price\n",
    "    \n",
    "    def print(self):\n",
    "        print(f\"Brand: {self.brand}\")\n",
    "        print(f\"Payable tax: {self.compute_tax()}\")\n",
    "\n",
    "        \n",
    "class Vehicle:\n",
    "        \n",
    "    def __init__(self, id: str, licence_plate: str, info: VehicleInfo):\n",
    "        self.id = id\n",
    "        self.licence_plate = licence_plate\n",
    "        self.info = info\n",
    "    \n",
    "    def print(self):\n",
    "        print(f\"ID: {self.id}\")\n",
    "        print(f\"Licence plate: {self.licence_plate}\")\n",
    "        self.info.print()"
   ]
  },
  {
   "cell_type": "code",
   "execution_count": 6,
   "id": "36b32a5b",
   "metadata": {},
   "outputs": [],
   "source": [
    "class VehicleRegistry:\n",
    "    \n",
    "    vehicle_info = {}\n",
    "    \n",
    "    def add_vehicle_info(self, brand, electric, catalogue_price):\n",
    "        self.vehicle_info[brand] = VehicleInfo(brand, electric, catalogue_price)\n",
    "    \n",
    "    def __init__(self):\n",
    "        self.add_vehicle_info(\"Tesla Model 3\", True, 60000)\n",
    "        self.add_vehicle_info(\"Volkswagen ID3\", True, 35000)\n",
    "        self.add_vehicle_info(\"BMW 5\", False, 45000)\n",
    "    \n",
    "    def generate_vehicle_id(self, length):\n",
    "        return ''.join(random.choices(string.ascii_uppercase, k=length))\n",
    "    \n",
    "    def generate_vehicle_licence(self, id):\n",
    "        return (\n",
    "            f\"{id[:2]}\"\n",
    "            f\"-{''.join(random.choices(string.digits, k=2))}\"\n",
    "            f\"-{''.join(random.choices(string.ascii_uppercase, k=2))}\"\n",
    "        )\n",
    "    \n",
    "    def create_vehicle(self, brand):\n",
    "        vehicle_id = self.generate_vehicle_id(12)\n",
    "        licence_plate = self.generate_vehicle_licence(vehicle_id)\n",
    "        return Vehicle(vehicle_id, licence_plate, self.vehicle_info[brand])"
   ]
  },
  {
   "cell_type": "code",
   "execution_count": 7,
   "id": "2405a10d",
   "metadata": {},
   "outputs": [],
   "source": [
    "class Application:\n",
    "    def register_vehicle(self, brand: string):\n",
    "        # create a registry instance\n",
    "        registry = VehicleRegistry()\n",
    "        \n",
    "        # create a vehicle\n",
    "        return registry.create_vehicle(brand)"
   ]
  },
  {
   "cell_type": "code",
   "execution_count": 8,
   "id": "5e6cba1d",
   "metadata": {},
   "outputs": [
    {
     "name": "stdout",
     "output_type": "stream",
     "text": [
      "ID: EWBUQXUXFAQR\n",
      "Licence plate: EW-46-UN\n",
      "Brand: BMW 5\n",
      "Payable tax: 2250.0\n"
     ]
    }
   ],
   "source": [
    "app = Application()\n",
    "vehicle = app.register_vehicle(\"BMW 5\")\n",
    "vehicle.print()"
   ]
  },
  {
   "cell_type": "markdown",
   "id": "fc761b38",
   "metadata": {},
   "source": [
    "<hr>\n",
    "Final UML:\n",
    "\n",
    "<img src=\"images/cohesion_and_coupling_final.png\" width=800>"
   ]
  },
  {
   "cell_type": "code",
   "execution_count": null,
   "id": "e297421b",
   "metadata": {},
   "outputs": [],
   "source": []
  }
 ],
 "metadata": {
  "kernelspec": {
   "display_name": "Design-Patterns",
   "language": "python",
   "name": "design-patterns"
  },
  "language_info": {
   "codemirror_mode": {
    "name": "ipython",
    "version": 3
   },
   "file_extension": ".py",
   "mimetype": "text/x-python",
   "name": "python",
   "nbconvert_exporter": "python",
   "pygments_lexer": "ipython3",
   "version": "3.9.5"
  }
 },
 "nbformat": 4,
 "nbformat_minor": 5
}
