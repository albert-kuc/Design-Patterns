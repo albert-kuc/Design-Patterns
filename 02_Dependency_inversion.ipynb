{
 "cells": [
  {
   "cell_type": "markdown",
   "id": "a48fff0a",
   "metadata": {},
   "source": [
    "# Dependency inversion\n",
    "\n",
    "Based on [Dependency inversion](https://youtu.be/Kv5jhbSkqLE) by ArjanCodes\n",
    "\n",
    "Dependency inversion helps to separate components and reduce coupling of the code.\n",
    "It is part of SOLID principals.<br>\n",
    "\n",
    "The key ingridient of the `Dependency Inversion` is **abstraction**.<br>\n",
    "You need a mechanism in your program, that allows you to separate the description, or definition of the interface from the actual implementation.\n",
    "\n",
    "To define such an interface it also needs **types**.<br>\n",
    "Ideally program algorighm should support both: an abstraction mechanism and types.\n",
    "\n",
    "In Python there are no abstract mechanisms built into the system and also doesn't have types in classical sense.<br>\n",
    "There is a module ABC, which stands for `Abstract Base Class` that can be used to model abstraction.<br>\n",
    "Python also has type hints, that allows to specify the types of parameters or return type of a function, etc."
   ]
  },
  {
   "cell_type": "code",
   "execution_count": 1,
   "id": "d714f643",
   "metadata": {},
   "outputs": [],
   "source": [
    "class LightBulb:\n",
    "    def turn_on(self):\n",
    "        print(\"LightBulb: turned on...\")\n",
    "    \n",
    "    def turn_off(self):\n",
    "        print(\"LightBulb: turned off...\")"
   ]
  },
  {
   "cell_type": "code",
   "execution_count": 2,
   "id": "ef402d01",
   "metadata": {},
   "outputs": [],
   "source": [
    "class ElectricPowerSwitch:\n",
    "    \n",
    "    def __init__(self, l: LightBulb):\n",
    "        self.light_bulb = l\n",
    "        self.on = False\n",
    "    \n",
    "    def press(self):\n",
    "        if self.on:\n",
    "            self.light_bulb.turn_off()\n",
    "            self.on = False\n",
    "        else:\n",
    "            self.light_bulb.turn_on()\n",
    "            self.on = True"
   ]
  },
  {
   "cell_type": "code",
   "execution_count": 3,
   "id": "11486650",
   "metadata": {},
   "outputs": [],
   "source": [
    "l = LightBulb()\n",
    "switch = ElectricPowerSwitch(l)"
   ]
  },
  {
   "cell_type": "code",
   "execution_count": 4,
   "id": "cf983db2",
   "metadata": {},
   "outputs": [
    {
     "name": "stdout",
     "output_type": "stream",
     "text": [
      "LightBulb: turned on...\n"
     ]
    }
   ],
   "source": [
    "switch.press()"
   ]
  },
  {
   "cell_type": "code",
   "execution_count": 5,
   "id": "784d27b0",
   "metadata": {
    "scrolled": true
   },
   "outputs": [
    {
     "name": "stdout",
     "output_type": "stream",
     "text": [
      "LightBulb: turned off...\n"
     ]
    }
   ],
   "source": [
    "switch.press()"
   ]
  },
  {
   "cell_type": "markdown",
   "id": "33070ded",
   "metadata": {},
   "source": [
    "<hr>\n",
    "\n",
    "<img src=\"images/dependency_inversion_first.png\" width=70%>\n",
    "\n",
    "Currently **ElectricSwitch** requires **LightBulb** instance to exist and directly calls methods of that instance.<br>\n",
    "Use dependency inversion principles to remove this dependency of power switch on light bulb.\n",
    "\n",
    "New abstract class is going to define the interface, for things that can be turned on and off.<br>\n",
    "\n",
    "A class is turned into an abstract class (in Python), by inheriting from `ABC` object.<br>\n",
    "And methods of that class are decorated with `@abstractmethod`.<br>\n",
    "Python does not allow to create any instance of that class, and it can only be used to create subclasses.<br>\n",
    "Looking from the other end, subclasses have to match the interface of the abstract class."
   ]
  },
  {
   "cell_type": "code",
   "execution_count": 6,
   "id": "dcbbc11a",
   "metadata": {},
   "outputs": [],
   "source": [
    "from abc import ABC, abstractmethod\n",
    "\n",
    "class Switchable(ABC):\n",
    "    @abstractmethod\n",
    "    def turn_on(self):\n",
    "        pass\n",
    "    \n",
    "    @abstractmethod\n",
    "    def turn_off(self):\n",
    "        pass"
   ]
  },
  {
   "cell_type": "code",
   "execution_count": 7,
   "id": "63036774",
   "metadata": {},
   "outputs": [],
   "source": [
    "class LightBulb(Switchable):\n",
    "    def turn_on(self):\n",
    "        print(\"LightBulb: turned on...\")\n",
    "    \n",
    "    def turn_off(self):\n",
    "        print(\"LightBulb: turned off...\")"
   ]
  },
  {
   "cell_type": "markdown",
   "id": "91be090b",
   "metadata": {},
   "source": [
    "Because the **Lightbulb** is now a subclass of **Switchable** the `Dependency Inversion` might be applied to the **ElectricPowerSwitch**. <br>\n",
    "The direct dependancy of the Lightbulb can be removed and replaced with a Switchable object type.<br>\n",
    "This means that ElectricPowerSwitch may use any object of type Switchable."
   ]
  },
  {
   "cell_type": "code",
   "execution_count": 8,
   "id": "5b63435a",
   "metadata": {},
   "outputs": [],
   "source": [
    "class ElectricPowerSwitch:\n",
    "    \n",
    "    def __init__(self, c: Switchable):\n",
    "        self.client = c\n",
    "        self.on = False\n",
    "    \n",
    "    def press(self):\n",
    "        if self.on:\n",
    "            self.client.turn_off()\n",
    "            self.on = False\n",
    "        else:\n",
    "            self.client.turn_on()\n",
    "            self.on = True"
   ]
  },
  {
   "cell_type": "code",
   "execution_count": 9,
   "id": "f2860767",
   "metadata": {},
   "outputs": [],
   "source": [
    "l = LightBulb()\n",
    "switch = ElectricPowerSwitch(l)"
   ]
  },
  {
   "cell_type": "code",
   "execution_count": 10,
   "id": "4df94c9d",
   "metadata": {},
   "outputs": [
    {
     "name": "stdout",
     "output_type": "stream",
     "text": [
      "LightBulb: turned on...\n"
     ]
    }
   ],
   "source": [
    "switch.press()"
   ]
  },
  {
   "cell_type": "code",
   "execution_count": 11,
   "id": "b3050e57",
   "metadata": {},
   "outputs": [
    {
     "name": "stdout",
     "output_type": "stream",
     "text": [
      "LightBulb: turned off...\n"
     ]
    }
   ],
   "source": [
    "switch.press()"
   ]
  },
  {
   "cell_type": "markdown",
   "id": "c7da10e9",
   "metadata": {},
   "source": [
    "<hr>\n",
    "\n",
    "As a result another class may be defined and used in **ElectricPowerSwitch**..."
   ]
  },
  {
   "cell_type": "code",
   "execution_count": 12,
   "id": "68c0b429",
   "metadata": {},
   "outputs": [],
   "source": [
    "class Fan(Switchable):\n",
    "    def turn_on(self):\n",
    "        print(\"Fan: turned on...\")\n",
    "    \n",
    "    def turn_off(self):\n",
    "        print(\"Fan: turned off...\")    "
   ]
  },
  {
   "cell_type": "code",
   "execution_count": 13,
   "id": "be86d153",
   "metadata": {},
   "outputs": [],
   "source": [
    "f = Fan()\n",
    "switch = ElectricPowerSwitch(f)"
   ]
  },
  {
   "cell_type": "code",
   "execution_count": 14,
   "id": "ff4d41f7",
   "metadata": {},
   "outputs": [
    {
     "name": "stdout",
     "output_type": "stream",
     "text": [
      "Fan: turned on...\n"
     ]
    }
   ],
   "source": [
    "switch.press()"
   ]
  },
  {
   "cell_type": "code",
   "execution_count": 15,
   "id": "da3dc11d",
   "metadata": {},
   "outputs": [
    {
     "name": "stdout",
     "output_type": "stream",
     "text": [
      "Fan: turned off...\n"
     ]
    }
   ],
   "source": [
    "switch.press()"
   ]
  },
  {
   "cell_type": "markdown",
   "id": "1428dce0",
   "metadata": {},
   "source": [
    "Final UML\n",
    "\n",
    "<img src=\"images/dependency_inversion_final.png\" width=80%>"
   ]
  },
  {
   "cell_type": "code",
   "execution_count": null,
   "id": "bf50750c",
   "metadata": {},
   "outputs": [],
   "source": []
  }
 ],
 "metadata": {
  "kernelspec": {
   "display_name": "Design-Patterns",
   "language": "python",
   "name": "design-patterns"
  },
  "language_info": {
   "codemirror_mode": {
    "name": "ipython",
    "version": 3
   },
   "file_extension": ".py",
   "mimetype": "text/x-python",
   "name": "python",
   "nbconvert_exporter": "python",
   "pygments_lexer": "ipython3",
   "version": "3.9.5"
  }
 },
 "nbformat": 4,
 "nbformat_minor": 5
}
